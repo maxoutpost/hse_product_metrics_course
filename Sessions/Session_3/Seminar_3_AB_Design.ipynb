{
 "cells": [
  {
   "cell_type": "markdown",
   "id": "cae5ed4a-4f1b-4f25-a1d1-657836620b6f",
   "metadata": {},
   "source": [
    "## Дизайн AB-теста\n",
    "\n",
    "Проведение экспериментов — одна из основных и регулярных задач продуктового аналитика. Этот ноутбук рассматривает процесс дизайна и сложности, с которыми можно столкнуться, решая задачу (с фокусом на метрики).\n",
    "\n",
    "После того, как сформулирована гипотеза, аналитик должен ответить на следующие вопросы:\n",
    "1. Какая единица рандомизации эксперимента?\n",
    "2. На какой сегмент будет запущен эксперимент?\n",
    "3. Какой нужен размер выборки?\n",
    "4. Как долго будет идти эксперимент?"
   ]
  },
  {
   "cell_type": "code",
   "execution_count": 1,
   "id": "5e6dc6fa-ad20-462e-b5bd-682a4d9da860",
   "metadata": {},
   "outputs": [],
   "source": [
    "import pandas as pd\n",
    "import numpy as np\n",
    "from datetime import datetime\n",
    "from scipy.stats import norm\n",
    "\n",
    "import warnings\n",
    "warnings.filterwarnings('ignore')"
   ]
  },
  {
   "cell_type": "markdown",
   "id": "848148f0-3970-4ce0-934d-702f82f976cb",
   "metadata": {},
   "source": [
    "### 1. Единица рандомизации эксперимента\n",
    "\n",
    "Классические AB-тесты принято запускать с поюзерным разбиением. Однако, такой формат тестирования подходит не для всех гипотез. К другим распространенным подходам относят:\n",
    "- Свитчбек-тесты — единица рандомизации время или время-пространство;\n",
    "- Региональные (гео) тесты — единица рандомизации город или регион.\n",
    "\n",
    "Мы переходим к другим единицам рандомизации, когда проведение поюзерных тестов может исказить результаты из-за сетевого эффекта.\n",
    "\n",
    "### 2. Сегмент, который попадет в тест\n",
    "\n",
    "Определяется:\n",
    "- гипотезой (если она направлена на конкретную группу пользователей);\n",
    "- местом фичи в продукте (где именно возникает взаимодействие).\n",
    "\n",
    "Разбиение пользователей можно начинать в момент, когда они сталкиваются с экспериментируемым элементом. Например, если мы тестируем пошаговое оформление покупки вместо единой формы, в эксперимент попадут только пользователи, начавшие процесс оформления.\n",
    "\n",
    "### 3. Размер выборки\n",
    "\n",
    "Способ определения размера выборки зависит от критерия, который будем применять к оценке результатов.    \n",
    "Наиболее распространенный подход — расчёт через MDE. При этом в формуле используются квантильные значения стандартного нормального распределения (z-критерий).\n",
    "\n",
    "Для определения размера выборки через MDE нужно задать:\n",
    "- размер эффекта, который мы хотим задетектировать (MDE);\n",
    "- уровни ошибок I и II рода;\n",
    "- дисперсию метрики (базовый показатель конверсии для конверсий).\n",
    "\n",
    "**Для среднего**:\n",
    "\n",
    "$$\n",
    "n \\;=\\; \\frac{2\\,\\sigma^2 \\,\\big(z_{1-\\alpha/2}+z_{1-\\beta}\\big)^2}{\\text{MDE}^2}\n",
    "$$\n",
    "\n",
    "\n",
    "**Для доли** (бинарная метрика):\n",
    "\n",
    "$$\n",
    "n \\;\\\\=\\;\\; \\frac{2\\,p(1-p)\\,\\big(z_{1-\\alpha/2}+z_{1-\\beta}\\big)^2}{\\text{MDE}^2}\n",
    "$$\n",
    "\n",
    "- Формулы указаны для групп одинакового размера (50/50) и двустороннего критерия;\n",
    "- n — размер одной группы.\n",
    "\n",
    "### 4. Длительность эксперимента\n",
    "\n",
    "Зависит от размера выборки. Правильный подход — на пред периоде симулировать накопление уникальных пользователей, взаимодействоваших с функционалом, и вернуть число дней, за которое собрался нужный объем. \n",
    "\n",
    "Так как мы рассматриваем дизайн с точки зрения используемых метрик, давайте просто возьмем среднее число уникальных пользователей в день по месячным данным. Но важно помнить, что такая оценка очень грубая и может давать заметную погрешность."
   ]
  },
  {
   "cell_type": "markdown",
   "id": "c30e7c74-18ea-4e3e-9641-aee474f329a1",
   "metadata": {},
   "source": [
    "### Case Study — дизайн A/B-теста для мобильной игры\n",
    "\n",
    "\n",
    "**Легенда**   \n",
    "Представим, что мы аналитики в команде мобильной игры. К нам пришел продакт и просит провести дизайн эксперимента — мы усложняем уровни игры, начиная с 10 уровня, т.к. хотим вырастить средний чек (пользователям будет сложнее пройти дальше, поэтому они будут покупать более дорогие и эффективные атрибуты).\n",
    "\n",
    "**Гипотеза** — усложнение прохождения игры, начиная с 10 уровня, увеличит средний чек покупки как минимум на 2.5%.\n",
    "\n",
    "1. Единица рандомизации — поюзерный\n",
    "2. Сегмент, который попадет в тест — 10+ уровень\n",
    "3. Размер выборки —"
   ]
  },
  {
   "cell_type": "code",
   "execution_count": 23,
   "id": "b33b0748-9229-49a5-886c-a02a369af7a2",
   "metadata": {},
   "outputs": [
    {
     "data": {
      "text/html": [
       "<div>\n",
       "<style scoped>\n",
       "    .dataframe tbody tr th:only-of-type {\n",
       "        vertical-align: middle;\n",
       "    }\n",
       "\n",
       "    .dataframe tbody tr th {\n",
       "        vertical-align: top;\n",
       "    }\n",
       "\n",
       "    .dataframe thead th {\n",
       "        text-align: right;\n",
       "    }\n",
       "</style>\n",
       "<table border=\"1\" class=\"dataframe\">\n",
       "  <thead>\n",
       "    <tr style=\"text-align: right;\">\n",
       "      <th></th>\n",
       "      <th>date</th>\n",
       "      <th>user_id</th>\n",
       "      <th>level</th>\n",
       "      <th>event_id</th>\n",
       "      <th>purchase_amount</th>\n",
       "    </tr>\n",
       "  </thead>\n",
       "  <tbody>\n",
       "    <tr>\n",
       "      <th>0</th>\n",
       "      <td>2025-08-01</td>\n",
       "      <td>1</td>\n",
       "      <td>4</td>\n",
       "      <td>8</td>\n",
       "      <td>NaN</td>\n",
       "    </tr>\n",
       "    <tr>\n",
       "      <th>1</th>\n",
       "      <td>2025-08-01</td>\n",
       "      <td>1</td>\n",
       "      <td>4</td>\n",
       "      <td>13</td>\n",
       "      <td>NaN</td>\n",
       "    </tr>\n",
       "    <tr>\n",
       "      <th>2</th>\n",
       "      <td>2025-08-01</td>\n",
       "      <td>1</td>\n",
       "      <td>4</td>\n",
       "      <td>12</td>\n",
       "      <td>NaN</td>\n",
       "    </tr>\n",
       "    <tr>\n",
       "      <th>3</th>\n",
       "      <td>2025-08-01</td>\n",
       "      <td>1</td>\n",
       "      <td>4</td>\n",
       "      <td>8</td>\n",
       "      <td>NaN</td>\n",
       "    </tr>\n",
       "    <tr>\n",
       "      <th>4</th>\n",
       "      <td>2025-08-01</td>\n",
       "      <td>2</td>\n",
       "      <td>1</td>\n",
       "      <td>3</td>\n",
       "      <td>NaN</td>\n",
       "    </tr>\n",
       "  </tbody>\n",
       "</table>\n",
       "</div>"
      ],
      "text/plain": [
       "         date  user_id  level  event_id  purchase_amount\n",
       "0  2025-08-01        1      4         8              NaN\n",
       "1  2025-08-01        1      4        13              NaN\n",
       "2  2025-08-01        1      4        12              NaN\n",
       "3  2025-08-01        1      4         8              NaN\n",
       "4  2025-08-01        2      1         3              NaN"
      ]
     },
     "execution_count": 23,
     "metadata": {},
     "output_type": "execute_result"
    }
   ],
   "source": [
    "df = pd.read_csv('data/seminar_3_mobile_game.csv')\n",
    "\n",
    "df.head()"
   ]
  },
  {
   "cell_type": "code",
   "execution_count": 24,
   "id": "80fe8f6e-80b8-4f1f-b5cf-fb10c693de34",
   "metadata": {},
   "outputs": [
    {
     "data": {
      "text/plain": [
       "(2168137, 5)"
      ]
     },
     "execution_count": 24,
     "metadata": {},
     "output_type": "execute_result"
    }
   ],
   "source": [
    "df.shape"
   ]
  },
  {
   "cell_type": "code",
   "execution_count": 25,
   "id": "8131d80e-6b57-4a7c-b5d7-4a1c945a53fa",
   "metadata": {},
   "outputs": [
    {
     "data": {
      "text/plain": [
       "20000"
      ]
     },
     "execution_count": 25,
     "metadata": {},
     "output_type": "execute_result"
    }
   ],
   "source": [
    "df.user_id.nunique()"
   ]
  },
  {
   "cell_type": "code",
   "execution_count": 26,
   "id": "cf7655dc-ea40-412c-9cde-1402303f93a4",
   "metadata": {},
   "outputs": [],
   "source": [
    "df_10_lvl = df[df['level'] >= 10].reset_index(drop=True)"
   ]
  },
  {
   "cell_type": "markdown",
   "id": "76432e08-8e03-46e3-be60-02e7e6b98945",
   "metadata": {},
   "source": [
    "Покупка — event_id = 10"
   ]
  },
  {
   "cell_type": "code",
   "execution_count": 27,
   "id": "1783646e-ab8b-4693-b115-d3a1edacf281",
   "metadata": {},
   "outputs": [
    {
     "data": {
      "text/plain": [
       "25.872720063200756"
      ]
     },
     "execution_count": 27,
     "metadata": {},
     "output_type": "execute_result"
    }
   ],
   "source": [
    "df_10_lvl[df_10_lvl['event_id'] == 10].purchase_amount.mean()"
   ]
  },
  {
   "cell_type": "code",
   "execution_count": 28,
   "id": "75ea9024-5b5f-499f-ab24-8487ee9eac3f",
   "metadata": {},
   "outputs": [],
   "source": [
    "def sample_size_mean(metric_series, mde, alpha=0.05, power=0.8, two_sided=True):\n",
    "    \n",
    "    var = np.var(metric_series, ddof=1)\n",
    "    \n",
    "    if two_sided:\n",
    "        z_alpha = norm.ppf(1 - alpha/2)\n",
    "    else:\n",
    "        z_alpha = norm.ppf(1 - alpha)\n",
    "    z_beta = norm.ppf(power)\n",
    "    \n",
    "    n = (2 * var * (z_alpha + z_beta) ** 2) / (mde ** 2)\n",
    "    \n",
    "    return int(np.ceil(n))"
   ]
  },
  {
   "cell_type": "code",
   "execution_count": 29,
   "id": "8b77d643-7243-4e7b-9286-633aea34f32b",
   "metadata": {},
   "outputs": [
    {
     "data": {
      "text/plain": [
       "8860"
      ]
     },
     "execution_count": 29,
     "metadata": {},
     "output_type": "execute_result"
    }
   ],
   "source": [
    "sample_size_mean(df_10_lvl[df_10_lvl['event_id'] == 10].purchase_amount, \n",
    "                 df_10_lvl[df_10_lvl['event_id'] == 10].purchase_amount.mean() * 0.025, \n",
    "                 alpha=0.05, power=0.8, two_sided=True)"
   ]
  },
  {
   "cell_type": "markdown",
   "id": "cf5c20fa-773b-444e-a980-5a541b9dde5e",
   "metadata": {},
   "source": [
    "Не кажется ли вам, что в дизайне есть что-то подозрительное?\n",
    "\n",
    "Средний чек — ratio-метрика. Единица расчета (покупка) в ней отличается от единицы рандомизации эксперимента (пользователя). "
   ]
  },
  {
   "cell_type": "code",
   "execution_count": 30,
   "id": "039e2fdd-5390-4c61-945b-9d68d67aabfc",
   "metadata": {},
   "outputs": [],
   "source": [
    "df_10_lvl['is_purchase'] = df_10_lvl['event_id'] == 10"
   ]
  },
  {
   "cell_type": "code",
   "execution_count": 31,
   "id": "562f5862-b8d2-4ad3-a2b3-53444b1090a6",
   "metadata": {},
   "outputs": [],
   "source": [
    "df_users_ratio = df_10_lvl.groupby(['user_id'], as_index=False) \\\n",
    "    .agg(sum_amt=('purchase_amount', 'sum'),\n",
    "         purchases=('is_purchase', 'sum'))"
   ]
  },
  {
   "cell_type": "code",
   "execution_count": 32,
   "id": "54beb09d-9edd-4c5a-a4d2-6f4c3334dc26",
   "metadata": {},
   "outputs": [],
   "source": [
    "df_users_ratio['avg_check_per_user'] = (df_users_ratio['sum_amt'] / df_users_ratio['purchases']).fillna(0)"
   ]
  },
  {
   "cell_type": "code",
   "execution_count": 33,
   "id": "4946f688-4c8a-40cd-8431-03d1b99a22f4",
   "metadata": {},
   "outputs": [
    {
     "data": {
      "text/plain": [
       "user_id               0\n",
       "sum_amt               0\n",
       "purchases             0\n",
       "avg_check_per_user    0\n",
       "dtype: int64"
      ]
     },
     "execution_count": 33,
     "metadata": {},
     "output_type": "execute_result"
    }
   ],
   "source": [
    "df_users_ratio.isna().sum()"
   ]
  },
  {
   "cell_type": "code",
   "execution_count": 34,
   "id": "41f9d636-be65-4b75-bb99-967db2ee6f47",
   "metadata": {},
   "outputs": [
    {
     "data": {
      "text/plain": [
       "12349"
      ]
     },
     "execution_count": 34,
     "metadata": {},
     "output_type": "execute_result"
    }
   ],
   "source": [
    "sample_size_mean(df_users_ratio.avg_check_per_user, \n",
    "                 df_users_ratio.avg_check_per_user.mean() * 0.025, \n",
    "                 alpha=0.05, power=0.8, two_sided=True)"
   ]
  },
  {
   "cell_type": "code",
   "execution_count": 35,
   "id": "19ae5e61-b95f-46d8-94d7-35398928b22f",
   "metadata": {},
   "outputs": [
    {
     "data": {
      "text/plain": [
       "20.410371413919382"
      ]
     },
     "execution_count": 35,
     "metadata": {},
     "output_type": "execute_result"
    }
   ],
   "source": [
    "df_users_ratio.avg_check_per_user.mean()"
   ]
  },
  {
   "cell_type": "code",
   "execution_count": 36,
   "id": "9ca275a3-6cd4-440b-ae27-746dac2dadac",
   "metadata": {},
   "outputs": [
    {
     "data": {
      "text/plain": [
       "25.872720063200756"
      ]
     },
     "execution_count": 36,
     "metadata": {},
     "output_type": "execute_result"
    }
   ],
   "source": [
    "df_10_lvl[df_10_lvl['event_id'] == 10].purchase_amount.mean()"
   ]
  },
  {
   "cell_type": "markdown",
   "id": "1f686310-230e-44ae-b119-dadac846fe1a",
   "metadata": {},
   "source": [
    "Получилась другая метрика"
   ]
  },
  {
   "cell_type": "markdown",
   "id": "38894ebe-32dd-45ca-b8e2-30286be46b09",
   "metadata": {},
   "source": [
    "Если подумать, у нас возникает зависимость между числителем и знаменателем — если покупка не будет сделана, значение чека в числителе просто не появится!\n",
    "\n",
    "Что же делать?"
   ]
  },
  {
   "cell_type": "markdown",
   "id": "795b6251-aef0-4601-9194-f09b9d58cd5a",
   "metadata": {},
   "source": [
    "### Ratio-метрики\n",
    "\n",
    "В A/B-тестах без ratio-метрик не обойтись. Благодаря формуле они часто оказываются наиболее удачными:\n",
    "- устойчивы;\n",
    "- интерпретируемы.\n",
    "\n",
    "Поэтому в аналитике разработаны специальные подходы для корректной работы с ratio-метриками.\n",
    "\n",
    "**1. Переход к поюзерной метрике.**\n",
    "\n",
    "Перевести ratio на уровень пользователя, чтобы единица анализа совпадала с единицей рандомизации. Например, вместо среднего чека брать ARPU. \n",
    "\n",
    "Плюсы: независимость наблюдений, корректный тест.     \n",
    "Минусы: это совсем другая метрика, направление которой может не совпадать с изначальной. Если какая-то часть пользователей просто начнет покупать чаще, то мы увидим рост ARPU без роста среднего чека. В таком случае решение по эксперименту может быть ошибочным.\n",
    "\n",
    "**2. Дельта-метод**\n",
    "\n",
    "Использует формулу для оценки дисперсиии отношения двух случайных величин:\n",
    "\n",
    "$$\n",
    "\\mathrm{Var}\\!\\left(\\frac{X}{Y}\\right) \\;\\approx\\; \n",
    "\\frac{1}{\\mu_Y^2}\\,\\mathrm{Var}(X) \n",
    "\\;+\\; \\frac{\\mu_X^2}{\\mu_Y^4}\\,\\mathrm{Var}(Y) \n",
    "\\;-\\; 2\\,\\frac{\\mu_X}{\\mu_Y^3}\\,\\mathrm{Cov}(X,Y)\n",
    "$$\n",
    "\n",
    "Плюсы: быстрый метод, который хорошо подходит для больших выборок.   \n",
    "Минусы: может быть не точным при небольших n."
   ]
  },
  {
   "cell_type": "code",
   "execution_count": 18,
   "id": "f24faa7e-8748-4f7c-a5a0-b454433026eb",
   "metadata": {},
   "outputs": [],
   "source": [
    "def sample_size_ratio_delta(num, den, mde, alpha=0.05, power=0.8, two_sided=True):\n",
    "    mu_X = num.mean()\n",
    "    mu_Y = den.mean()\n",
    "    \n",
    "    var_X = np.var(num, ddof=1)\n",
    "    var_Y = np.var(den, ddof=1)\n",
    "    cov_XY = np.cov(num, den, ddof=1)[0,1]\n",
    "\n",
    "    var_ratio = (var_X / mu_Y**2\n",
    "                 - 2 * mu_X * cov_XY / mu_Y**3\n",
    "                 + (mu_X**2) * var_Y / mu_Y**4)\n",
    "\n",
    "    if two_sided:\n",
    "        z_alpha = norm.ppf(1 - alpha/2)\n",
    "    else:\n",
    "        z_alpha = norm.ppf(1 - alpha)\n",
    "    z_beta = norm.ppf(power)\n",
    "\n",
    "    n = (2 * var_ratio * (z_alpha + z_beta)**2) / (mde**2)\n",
    "    return int(np.ceil(n))"
   ]
  },
  {
   "cell_type": "code",
   "execution_count": 37,
   "id": "92b64e29-6aac-41ee-92e9-d74be6643b6d",
   "metadata": {},
   "outputs": [
    {
     "data": {
      "text/plain": [
       "3699"
      ]
     },
     "execution_count": 37,
     "metadata": {},
     "output_type": "execute_result"
    }
   ],
   "source": [
    "sample_size_ratio_delta(df_users_ratio.sum_amt, df_users_ratio.purchases, \n",
    "                        (df_users_ratio['sum_amt'].sum() / df_users_ratio['purchases'].sum()) * 0.025,  \n",
    "                        alpha=0.05, power=0.8, two_sided=True)"
   ]
  },
  {
   "cell_type": "code",
   "execution_count": 38,
   "id": "c1ea001d-8c4f-44f0-9643-ed87d2324f57",
   "metadata": {},
   "outputs": [],
   "source": [
    "unique_users_per_day = df.user_id.nunique() / df['date'].nunique()"
   ]
  },
  {
   "cell_type": "code",
   "execution_count": 39,
   "id": "fdf16227-4a79-4746-a917-dd57a15ff5e3",
   "metadata": {},
   "outputs": [],
   "source": [
    "n = sample_size_ratio_delta(df_users_ratio.sum_amt, df_users_ratio.purchases, \n",
    "                        (df_users_ratio['sum_amt'].sum() / df_users_ratio['purchases'].sum()) * 0.025,  \n",
    "                        alpha=0.05, power=0.8, two_sided=True)"
   ]
  },
  {
   "cell_type": "code",
   "execution_count": 40,
   "id": "8b0d5ec1-30e0-4298-9fe2-721b2c00d309",
   "metadata": {},
   "outputs": [
    {
     "data": {
      "text/plain": [
       "11.4669"
      ]
     },
     "execution_count": 40,
     "metadata": {},
     "output_type": "execute_result"
    }
   ],
   "source": [
    "n * 2 /unique_users_per_day"
   ]
  },
  {
   "cell_type": "code",
   "execution_count": null,
   "id": "2031c408-51d4-4209-b3b0-b7560bc138e4",
   "metadata": {},
   "outputs": [],
   "source": []
  }
 ],
 "metadata": {
  "kernelspec": {
   "display_name": "Python 3 (ipykernel)",
   "language": "python",
   "name": "python3"
  },
  "language_info": {
   "codemirror_mode": {
    "name": "ipython",
    "version": 3
   },
   "file_extension": ".py",
   "mimetype": "text/x-python",
   "name": "python",
   "nbconvert_exporter": "python",
   "pygments_lexer": "ipython3",
   "version": "3.12.0"
  }
 },
 "nbformat": 4,
 "nbformat_minor": 5
}
