{
 "cells": [
  {
   "cell_type": "markdown",
   "id": "bac8c716-03e6-41a9-802e-5593b2d28350",
   "metadata": {},
   "source": [
    "## Домашка 4\n",
    "\n",
    "#### *«Вы видите, но не наблюдаете.» — Шерлок*\n",
    "\n",
    "Эта домашка про мониторинг метрик и детекцию аномалий. За неё можно получить максимум 12 баллов. На решение отводится **14 календарных дней** с момента выдачи. Обратите внимание, что **дедлайны на курсе сразу жёсткие**, а значит отправка решений после них запрещена.\n",
    "Задание выполняется самостоятельно, списывания не допускаются. При обнаружении одинаковых работ балл за задание анулируется у всех студентов, вне зависимости от того, кто у кого списал.\n",
    "\n",
    "#### **Как сдать домашку?**\n",
    "1. Скачайте этот ноутбук.\n",
    "2. Решите задания (локально или в Google Colab). \n",
    "3. Опубликуйте решенный ноутбук в свой GitHub репозиторий (проверьте, чтобы он был публичным).\n",
    "4. В процессе решения вы будете получать ответы на список вопросов, собранный в Яндекс-Формах. Впишите в него ответы.\n",
    "5. В ту же форму приложите ссылку на решенный ноутбук (форма будет доступна на LMS Karpov Courses и в Телеграм-канале курса).\n",
    "6. Вопросы в Формах с автопроверкой, однако сданный тест, к которому не была приложена ссылка на ноутбук с расчетом ответов, получает 0 баллов. \n",
    "\n",
    "**Внимание**: Если вы работаете в Google Colab, также скачивайте .ipynb файл и публикуйте его в репозитории. Ссылки на Colab к сдаче не принимаются.\n",
    "\n",
    "\n",
    "Все датасеты, с которыми предлагается работать в домашних заданиях, взяты из открытых источников или сгенерированы. Любые паттерны, найденные вне заданной канвы решения, являются случайными и не несут в себе смысла или инсайта.\n",
    "\n",
    "[Данные](https://github.com/brezhnevaan/hse_product_metrics_course/releases/download/datasets_for_hw/hw_4_data.zip)"
   ]
  },
  {
   "cell_type": "code",
   "execution_count": 1,
   "id": "461d4656-9958-47b0-bab8-37bd688db8dc",
   "metadata": {},
   "outputs": [],
   "source": [
    "import pandas as pd\n",
    "import numpy as np\n",
    "from datetime import datetime\n",
    "import matplotlib.pyplot as plt\n",
    "from scipy.stats import t\n",
    "from statsmodels.tsa.seasonal import STL\n",
    "import math"
   ]
  },
  {
   "cell_type": "markdown",
   "id": "266b8d92-6e8b-496e-afe1-d9ae450de935",
   "metadata": {},
   "source": [
    "### Warm up\n",
    "\n",
    "#### 1. Сопоставьте метод детекции аномалий с контекстом применения — 2 балла\n",
    "\n",
    "a) Онлайн-мониторинг   \n",
    "b) Батч-анализ по историческим данным  \n",
    "\n",
    "1. Правило 3σ.\n",
    "2. Generalized ESD\n",
    "3. Grubbs test\n",
    "4. CUSUM\n",
    "5. EWMA\n",
    "6. STL-разложение + Generalized ESD"
   ]
  },
  {
   "cell_type": "code",
   "execution_count": 2,
   "id": "6aad98a0-0acb-4328-9058-ebc9195d33b0",
   "metadata": {},
   "outputs": [],
   "source": [
    "# your answer is here"
   ]
  },
  {
   "cell_type": "markdown",
   "id": "063e8f2d-eed2-4843-aad8-802af410a7d5",
   "metadata": {},
   "source": [
    "### Case Study. Система мониторинга метрик для Ecom-приложения 🥪\n",
    "\n",
    "**Легенда**  \n",
    "Вы работаете продуктовым аналитиком в ecom-приложении доставки FMCG-товаров. Компания — развивающийся стартап, в котором еще не выстроена система мониторинга метрик.   \n",
    "\n",
    "Вам поручили провести исследование подходов к детекции аномалий на исторических данных и выбрать методологии, которые будет применять ваша компания для онлайн-мониторинга и ретроспективного анализа."
   ]
  },
  {
   "cell_type": "code",
   "execution_count": 2,
   "id": "17f8bb76-a012-4b17-87ac-b4f1d623041d",
   "metadata": {},
   "outputs": [],
   "source": [
    "df = pd.read_csv('data/hw_4_fmcg.csv')"
   ]
  },
  {
   "cell_type": "code",
   "execution_count": 3,
   "id": "bb4d0f34-5dc2-4d30-826b-bd4d4bb6234d",
   "metadata": {},
   "outputs": [],
   "source": [
    "df['date'] = pd.to_datetime(df['date'])"
   ]
  },
  {
   "cell_type": "code",
   "execution_count": 4,
   "id": "d9abc3e6-a05f-4a7b-b33a-625579ba5402",
   "metadata": {},
   "outputs": [
    {
     "data": {
      "text/html": [
       "<div>\n",
       "<style scoped>\n",
       "    .dataframe tbody tr th:only-of-type {\n",
       "        vertical-align: middle;\n",
       "    }\n",
       "\n",
       "    .dataframe tbody tr th {\n",
       "        vertical-align: top;\n",
       "    }\n",
       "\n",
       "    .dataframe thead th {\n",
       "        text-align: right;\n",
       "    }\n",
       "</style>\n",
       "<table border=\"1\" class=\"dataframe\">\n",
       "  <thead>\n",
       "    <tr style=\"text-align: right;\">\n",
       "      <th></th>\n",
       "      <th>date</th>\n",
       "      <th>items_sold</th>\n",
       "      <th>gmv</th>\n",
       "      <th>avg_item_price</th>\n",
       "    </tr>\n",
       "  </thead>\n",
       "  <tbody>\n",
       "    <tr>\n",
       "      <th>0</th>\n",
       "      <td>2023-01-01</td>\n",
       "      <td>2907</td>\n",
       "      <td>14944.41</td>\n",
       "      <td>5.140836</td>\n",
       "    </tr>\n",
       "    <tr>\n",
       "      <th>1</th>\n",
       "      <td>2023-01-02</td>\n",
       "      <td>3030</td>\n",
       "      <td>16065.13</td>\n",
       "      <td>5.302023</td>\n",
       "    </tr>\n",
       "    <tr>\n",
       "      <th>2</th>\n",
       "      <td>2023-01-03</td>\n",
       "      <td>3070</td>\n",
       "      <td>17170.30</td>\n",
       "      <td>5.592932</td>\n",
       "    </tr>\n",
       "    <tr>\n",
       "      <th>3</th>\n",
       "      <td>2023-01-04</td>\n",
       "      <td>2708</td>\n",
       "      <td>14367.19</td>\n",
       "      <td>5.305462</td>\n",
       "    </tr>\n",
       "    <tr>\n",
       "      <th>4</th>\n",
       "      <td>2023-01-05</td>\n",
       "      <td>3177</td>\n",
       "      <td>16918.53</td>\n",
       "      <td>5.325316</td>\n",
       "    </tr>\n",
       "  </tbody>\n",
       "</table>\n",
       "</div>"
      ],
      "text/plain": [
       "        date  items_sold       gmv  avg_item_price\n",
       "0 2023-01-01        2907  14944.41        5.140836\n",
       "1 2023-01-02        3030  16065.13        5.302023\n",
       "2 2023-01-03        3070  17170.30        5.592932\n",
       "3 2023-01-04        2708  14367.19        5.305462\n",
       "4 2023-01-05        3177  16918.53        5.325316"
      ]
     },
     "execution_count": 4,
     "metadata": {},
     "output_type": "execute_result"
    }
   ],
   "source": [
    "df.head()"
   ]
  },
  {
   "cell_type": "markdown",
   "id": "418bc66f-8f08-4ab7-b19f-b9e1b9009f63",
   "metadata": {},
   "source": [
    "Описание данных:\n",
    "\n",
    "- date — дата, на которую агрегированы данные\n",
    "- items_sold — число проданных в день товаров\n",
    "- gmv – GMV проданных в день товаров\n",
    "- avg_item_price — средняя цена проданных в день товаров"
   ]
  },
  {
   "cell_type": "markdown",
   "id": "f68d291e-2039-43ea-945b-aa7ce78c0b4e",
   "metadata": {},
   "source": [
    "#### 2. Правило 3σ — 2 балла\n",
    "\n",
    "1) Реализуйте правило 3σ для каждой метрики:\n",
    "- gmv;\n",
    "- items_sold;\n",
    "- avg_item_price.\n",
    "\n",
    "Расчет производите на всем датасете. В этом пункте вы имитируете онлайн-мониторинг, поэтому проверка проводится для каждой даты, а границы контроля рассчитываются за последние 28 дней до самой даты. \n",
    "\n",
    "2) Постройте графики: метрика + границы контроля + выделенные аномалии.\n",
    "\n",
    "*Советую обернуть правило для расчета 3σ в функцию, она пригодится на следующем шаге.*\n",
    "\n",
    "**Внимание: Тут и в дальнейшем для визуализации и ответа на тестовые вопросы формы используйте только данные ЗА МАЙ.**"
   ]
  },
  {
   "cell_type": "code",
   "execution_count": 5,
   "id": "4a272714-343b-49c6-93eb-fbbedcd86391",
   "metadata": {},
   "outputs": [],
   "source": [
    "# your code is here"
   ]
  },
  {
   "cell_type": "markdown",
   "id": "31283d2c-44e6-4afa-82ef-fb0f07d92dd5",
   "metadata": {},
   "source": [
    "**Задание**: введите число, являющееся аномальным значением метрики items_sold."
   ]
  },
  {
   "cell_type": "markdown",
   "id": "346e211d-bae7-4bf3-92eb-215afd6d3590",
   "metadata": {},
   "source": [
    "#### 3. Дельта-ряды — 2 балла\n",
    "\n",
    "1) Рассчитайте дельты значений текущего дня с предыдущим для каждой метрики, затем примените к полученным дельтам правило 3σ:\n",
    "- gmv;\n",
    "- items_sold;\n",
    "- avg_item_price.\n",
    "\n",
    "Расчет производите на всем датасете. В этом пункте вы имитируете онлайн-мониторинг, поэтому проверка проводится для каждой даты, а границы контроля рассчитываются за последние 28 дней до самой даты. \n",
    "\n",
    "2) Постройте графики: дельты метрики + границы контроля + выделенные аномалии."
   ]
  },
  {
   "cell_type": "code",
   "execution_count": 6,
   "id": "b1d82b56-0b4a-40ab-90da-acc8884903e8",
   "metadata": {},
   "outputs": [],
   "source": [
    "# your code is here"
   ]
  },
  {
   "cell_type": "markdown",
   "id": "7aea3c94-79e9-468e-a9c1-ede5505229ac",
   "metadata": {},
   "source": [
    "**Задание**: введите аномальное значение дельты avg_item_price, значение округлите до сотых."
   ]
  },
  {
   "cell_type": "markdown",
   "id": "9b88e0d9-e6c7-4a62-80fb-dd1a8c4c874f",
   "metadata": {},
   "source": [
    "#### 4. Generalized ESD — 2 балла\n",
    "\n",
    "1) Реализуйте [Generalized ESD](https://www.itl.nist.gov/div898/handbook/eda/section3/eda35h3.htm). Обратите внимание, с какими данными работает метод — онлайн или батч? Учтите это в реализации.\n",
    "2) Найдите аномалии для дельт каждой метрики ЗА МАЙ (используйте данные, полученные на прошлом шаге):\n",
    "- gmv;\n",
    "- items_sold;\n",
    "- avg_item_price.\n",
    "3) Сравните результаты с правилом 3σ на дельтах: разошлись ли методы?\n",
    "\n",
    "*Советую обернуть Generalized ESD в функцию, она пригодится на следующем шаге.*"
   ]
  },
  {
   "cell_type": "code",
   "execution_count": 7,
   "id": "e949433e-9e09-41bf-9847-c013249ec238",
   "metadata": {},
   "outputs": [],
   "source": [
    "# your code is here"
   ]
  },
  {
   "cell_type": "markdown",
   "id": "32c8b8bb-e1e6-4de7-9acd-ffc352f8895d",
   "metadata": {},
   "source": [
    "**Задание**: для какой даты дельта avg_item_price является аномалией по методу Generalized ESD? Введите дату в фоммате YYYY-MM-DD"
   ]
  },
  {
   "cell_type": "markdown",
   "id": "a8d64b46-6ba9-4719-8e94-ac8438f70d71",
   "metadata": {},
   "source": [
    "#### 5. STL-разложение — 2 балла\n",
    "\n",
    "1) Для каждой метрики выполните STL-разложение с недельной сезонностью (7 дней) на данных всего датасета:\n",
    "- gmv;\n",
    "- items_sold;\n",
    "- avg_item_price.\n",
    "\n",
    "Используйте STL из библиотеки statsmodels (уже есть в импортах).\n",
    "  \n",
    "2) Для каждой метрики визуализируйте компоненты: тренд, сезонность, остатки (на всем датасете).\n",
    "\n",
    "4) На остатках примените Generalized ESD, можете использовать функцию из прошлого шага. Это упражнение проделываем только на данных ЗА МАЙ.\n",
    "\n",
    "5) Подумайте, для каждой ли метрики имеет смысл использовать STL, везде ли визуально присутствуют тренд и недельная сезонность?"
   ]
  },
  {
   "cell_type": "code",
   "execution_count": 8,
   "id": "720366c7-5c44-43b8-aebe-bdb248bbc32b",
   "metadata": {},
   "outputs": [],
   "source": [
    "# your code is here"
   ]
  },
  {
   "cell_type": "markdown",
   "id": "2ac1f818-06df-40e0-bcba-adbdf76e942d",
   "metadata": {},
   "source": [
    "**Задание**: введите количество аномалий (сумма для всех метрик — целое число), полученное на остатках STL разложением и Generalized ESD."
   ]
  },
  {
   "cell_type": "markdown",
   "id": "e065e19b-39dd-4f52-b5da-5801b214d674",
   "metadata": {},
   "source": [
    "#### 6. EWMA — 2 балла\n",
    "\n",
    "1) Реализуйте метод [EWMA](https://www.itl.nist.gov/div898/handbook/pmc/section3/pmc324.htm) для каждой метрики:\n",
    "- gmv;\n",
    "- items_sold;\n",
    "- avg_item_price.\n",
    "\n",
    "При расчётах используйте экспоненциальное сглаживание λ = 0.2, доверительные границы μ ± L·σ, где L = 3. Стандартное отклонение вычисляйте на окне 28 дней и используйте функцию асимптотического приближения:\n",
    "\n",
    "$$\n",
    "\\sigma_z(\\infty) = \\sigma \\sqrt{\\frac{\\lambda}{2-\\lambda}}\n",
    "$$\n",
    "\n",
    "Обратите внимание, что в pandas есть [встроенная функция экспоненциального сглаживания](https://pandas.pydata.org/docs/reference/api/pandas.DataFrame.ewm.html).\n",
    "\n",
    "\n",
    "2) Постройте графики: сглаженная метрика + границы контроля + выделенные аномалии.\n",
    "3) Напишите, какой из подходов вам больше всего понравился для онлайн-мониторинга, а какой — для ретроспективного анализа, и почему. Тут нет правильного ответа :)"
   ]
  },
  {
   "cell_type": "code",
   "execution_count": 9,
   "id": "058a0565-92a8-42b2-a973-339dccf77994",
   "metadata": {},
   "outputs": [],
   "source": [
    "# your code is here"
   ]
  },
  {
   "cell_type": "markdown",
   "id": "7685eea7-b1ca-48a5-b114-6b32fe083bb4",
   "metadata": {},
   "source": [
    "**Задание**: введите сглаженное значение метрики avg_item_price, являющееся аномальным по методу EWMA. Ответ округлите до сотых."
   ]
  },
  {
   "cell_type": "code",
   "execution_count": null,
   "id": "b00c753c-0f80-477a-9f35-be36cf2a43ea",
   "metadata": {},
   "outputs": [],
   "source": []
  }
 ],
 "metadata": {
  "kernelspec": {
   "display_name": "Python 3 (ipykernel)",
   "language": "python",
   "name": "python3"
  },
  "language_info": {
   "codemirror_mode": {
    "name": "ipython",
    "version": 3
   },
   "file_extension": ".py",
   "mimetype": "text/x-python",
   "name": "python",
   "nbconvert_exporter": "python",
   "pygments_lexer": "ipython3",
   "version": "3.12.0"
  }
 },
 "nbformat": 4,
 "nbformat_minor": 5
}
